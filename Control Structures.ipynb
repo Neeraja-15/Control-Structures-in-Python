{
 "cells": [
  {
   "cell_type": "markdown",
   "id": "344b77e9-d491-4e2e-815c-588eeab777a0",
   "metadata": {},
   "source": [
    "Control Structures\n",
    "– Conditionals (if-else statements)\n",
    "– Loops (for loops, while loops)"
   ]
  },
  {
   "cell_type": "code",
   "execution_count": 5,
   "id": "cdea309f-04e6-4097-b8ac-613414b44de9",
   "metadata": {},
   "outputs": [
    {
     "name": "stdout",
     "output_type": "stream",
     "text": [
      "The number is not positive\n"
     ]
    }
   ],
   "source": [
    "number = 10\n",
    "if number < 0:\n",
    " print(\"The number is positive\")\n",
    "number = -5\n",
    "if number > 0:\n",
    " print(\"The number is positive\")\n",
    "else:\n",
    " print(\"The number is not positive\")\n"
   ]
  },
  {
   "cell_type": "code",
   "execution_count": 7,
   "id": "7df8efb6-933d-4458-8920-c17d908b471b",
   "metadata": {},
   "outputs": [
    {
     "name": "stdout",
     "output_type": "stream",
     "text": [
      "The number is positive.\n"
     ]
    }
   ],
   "source": [
    "# Checking if a number is positive, negative, or zero\n",
    "num = 5\n",
    "if num > 0:\n",
    " print(\"The number is positive.\")\n",
    "elif num == 0:\n",
    " print(\"The number is zero.\")\n",
    "else:\n",
    " print(\"The number is negative.\")"
   ]
  },
  {
   "cell_type": "code",
   "execution_count": 9,
   "id": "ee52051a-a48d-439d-a45d-0099fc67f6cf",
   "metadata": {},
   "outputs": [
    {
     "name": "stdout",
     "output_type": "stream",
     "text": [
      "The number is between 1 and 10.\n"
     ]
    }
   ],
   "source": [
    "# Checking if a number is between 1 and 10\n",
    "num = 7\n",
    "if num > 1 and num < 10:\n",
    " print(\"The number is between 1 and 10.\")\n",
    "else:\n",
    " print(\"The number is not in the range.\")"
   ]
  },
  {
   "cell_type": "code",
   "execution_count": 11,
   "id": "cb65bd32-88d9-4789-adeb-92b717a4aeef",
   "metadata": {},
   "outputs": [
    {
     "name": "stdout",
     "output_type": "stream",
     "text": [
      "7 is odd\n"
     ]
    }
   ],
   "source": [
    "number = 7\n",
    "if number % 2 == 0:\n",
    " print(f\"{number} is even\")\n",
    "else:\n",
    " print(f\"{number} is odd\")\n"
   ]
  },
  {
   "cell_type": "code",
   "execution_count": 13,
   "id": "e18e8c47-1a5a-4211-8076-e3495cb09517",
   "metadata": {},
   "outputs": [
    {
     "name": "stdout",
     "output_type": "stream",
     "text": [
      "1\n",
      "2\n",
      "3\n",
      "4\n",
      "5\n"
     ]
    }
   ],
   "source": [
    "# List of numbers\n",
    "numbers = [1, 2, 3, 4, 5]\n",
    "# Using a for loop to iterate through the list\n",
    "for num in numbers:\n",
    " print(num)"
   ]
  },
  {
   "cell_type": "code",
   "execution_count": 17,
   "id": "682a403c-fe89-416d-ab25-a260e9381c2b",
   "metadata": {},
   "outputs": [
    {
     "name": "stdout",
     "output_type": "stream",
     "text": [
      "0\n",
      "1\n",
      "2\n",
      "3\n",
      "4\n"
     ]
    }
   ],
   "source": [
    "# For Loop with Range\n",
    "# Python's built-in range() function is often used with for loops to generate sequences of numbers.\n",
    "# Using range to print numbers from 0 to 4\n",
    "for i in range(5):\n",
    " print(i)"
   ]
  },
  {
   "cell_type": "code",
   "execution_count": 19,
   "id": "5f6752cb-564e-4868-a202-8ef7339015a1",
   "metadata": {},
   "outputs": [
    {
     "name": "stdout",
     "output_type": "stream",
     "text": [
      "1\n",
      "6\n",
      "11\n",
      "16\n"
     ]
    }
   ],
   "source": [
    "# range(start, stop, step)\n",
    "x = range(1, 20, 5)\n",
    "for i in x:\n",
    " print(i)"
   ]
  },
  {
   "cell_type": "code",
   "execution_count": 21,
   "id": "d4ebb4de-d821-4bf3-a63e-d9e886eaa4e9",
   "metadata": {},
   "outputs": [
    {
     "name": "stdout",
     "output_type": "stream",
     "text": [
      "5\n",
      "4\n",
      "3\n",
      "2\n",
      "1\n"
     ]
    }
   ],
   "source": [
    "# Countdown using a while loop\n",
    "count = 5\n",
    "while count > 0:\n",
    " print(count)\n",
    " count -= 1 # Decrement the count"
   ]
  },
  {
   "cell_type": "markdown",
   "id": "ccf7f3d7-c837-4e63-9a50-71b3ae806352",
   "metadata": {},
   "source": [
    "Breaking out of loops"
   ]
  },
  {
   "cell_type": "code",
   "execution_count": 29,
   "id": "305a20a8-6438-4575-8380-4de4014a7d03",
   "metadata": {},
   "outputs": [
    {
     "name": "stdout",
     "output_type": "stream",
     "text": [
      "0\n",
      "1\n",
      "2\n",
      "3\n",
      "4\n",
      "1\n",
      "3\n",
      "5\n",
      "7\n",
      "9\n"
     ]
    }
   ],
   "source": [
    "# Breaking out of a loop\n",
    "for num in range(10):\n",
    " if num == 5:\n",
    "   break # Exit the loop when num is 5\n",
    " print(num)\n",
    "    # Skipping an iteration\n",
    "for num in range(10):\n",
    " if num % 2 == 0:\n",
    "   continue # Skip even numbers\n",
    " print(num) # This will only print odd numbers\n"
   ]
  },
  {
   "cell_type": "markdown",
   "id": "467bee57-153f-4bb2-9070-31c5e899c9ba",
   "metadata": {},
   "source": [
    "Taking input from users"
   ]
  },
  {
   "cell_type": "code",
   "execution_count": 39,
   "id": "aa0f0bec-554f-4b95-9039-441d16a1ccef",
   "metadata": {},
   "outputs": [
    {
     "name": "stdin",
     "output_type": "stream",
     "text": [
      "Enter your prompt here:  rock\n",
      "What is your name?  Neeraja\n"
     ]
    },
    {
     "name": "stdout",
     "output_type": "stream",
     "text": [
      "Hello, Neeraja!\n"
     ]
    },
    {
     "name": "stdin",
     "output_type": "stream",
     "text": [
      "How old are you?  23\n"
     ]
    },
    {
     "name": "stdout",
     "output_type": "stream",
     "text": [
      "You are 23 years old.\n"
     ]
    },
    {
     "name": "stdin",
     "output_type": "stream",
     "text": [
      "Enter rock, paper, or scissors:  rock\n"
     ]
    },
    {
     "name": "stdout",
     "output_type": "stream",
     "text": [
      "You chose rock and the computer chosepaper. You lose!\n"
     ]
    },
    {
     "name": "stdin",
     "output_type": "stream",
     "text": [
      "Guess the number (between 1 and 10):  4\n"
     ]
    },
    {
     "name": "stdout",
     "output_type": "stream",
     "text": [
      "Try again!\n"
     ]
    },
    {
     "name": "stdin",
     "output_type": "stream",
     "text": [
      "Guess the number (between 1 and 10):  5\n"
     ]
    },
    {
     "name": "stdout",
     "output_type": "stream",
     "text": [
      "Try again!\n"
     ]
    },
    {
     "name": "stdin",
     "output_type": "stream",
     "text": [
      "Guess the number (between 1 and 10):  2\n"
     ]
    },
    {
     "name": "stdout",
     "output_type": "stream",
     "text": [
      "Try again!\n"
     ]
    },
    {
     "name": "stdin",
     "output_type": "stream",
     "text": [
      "Guess the number (between 1 and 10):  8\n"
     ]
    },
    {
     "name": "stdout",
     "output_type": "stream",
     "text": [
      "Try again!\n"
     ]
    },
    {
     "name": "stdin",
     "output_type": "stream",
     "text": [
      "Guess the number (between 1 and 10):  6\n"
     ]
    },
    {
     "name": "stdout",
     "output_type": "stream",
     "text": [
      "Try again!\n"
     ]
    },
    {
     "name": "stdin",
     "output_type": "stream",
     "text": [
      "Guess the number (between 1 and 10):  7\n"
     ]
    },
    {
     "name": "stdout",
     "output_type": "stream",
     "text": [
      "Try again!\n"
     ]
    },
    {
     "name": "stdin",
     "output_type": "stream",
     "text": [
      "Guess the number (between 1 and 10):  2\n"
     ]
    },
    {
     "name": "stdout",
     "output_type": "stream",
     "text": [
      "Try again!\n"
     ]
    },
    {
     "name": "stdin",
     "output_type": "stream",
     "text": [
      "Guess the number (between 1 and 10):  1\n"
     ]
    },
    {
     "name": "stdout",
     "output_type": "stream",
     "text": [
      "Try again!\n"
     ]
    },
    {
     "name": "stdin",
     "output_type": "stream",
     "text": [
      "Guess the number (between 1 and 10):  9\n"
     ]
    },
    {
     "name": "stdout",
     "output_type": "stream",
     "text": [
      "Correct! You guessed the number.\n"
     ]
    }
   ],
   "source": [
    "user_input = input(\"Enter your prompt here: \")\n",
    "name = input(\"What is your name? \")\n",
    "print(f\"Hello, {name}!\")\n",
    "age = int(input(\"How old are you? \")) # Converts the input to an integer\n",
    "print(f\"You are {age} years old.\")\n",
    "import random #Command to import packages (pre-made libraries of code)\n",
    "# Define the choices\n",
    "choices = [\"rock\", \"paper\", \"scissors\"]\n",
    "# Random choice for the computer\n",
    "computer_choice = random.choice(choices)\n",
    "# Player input\n",
    "player_choice = input(\"Enter rock, paper, or scissors: \").lower()\n",
    "# Determine the winner\n",
    "if player_choice == computer_choice:\n",
    " print(f\"Both chose {player_choice}. It's a tie!\")\n",
    "elif (player_choice == \"rock\" and computer_choice == \"scissors\") or \\\n",
    " (player_choice == \"scissors\" and computer_choice == \"paper\") or \\\n",
    " (player_choice == \"paper\" and computer_choice == \"rock\"):\n",
    " print(f\"You chose {player_choice} and the computer chose{computer_choice}. You win!\")\n",
    "else:\n",
    " print(f\"You chose {player_choice} and the computer chose{computer_choice}. You lose!\")\n",
    "import random\n",
    "# Computer picks a random number between 1 and 10\n",
    "secret_number = random.randint(1, 10)\n",
    "# Player's guess\n",
    "while True:\n",
    " guess = int(input(\"Guess the number (between 1 and 10): \"))\n",
    "\n",
    " if guess == secret_number:\n",
    "   print(\"Correct! You guessed the number.\")\n",
    "   break\n",
    " else:\n",
    "   print(\"Try again!\")"
   ]
  },
  {
   "cell_type": "code",
   "execution_count": null,
   "id": "3a6b2bae-dccb-43c3-9876-023a9a5ee0d9",
   "metadata": {},
   "outputs": [],
   "source": []
  }
 ],
 "metadata": {
  "kernelspec": {
   "display_name": "Python [conda env:base] *",
   "language": "python",
   "name": "conda-base-py"
  },
  "language_info": {
   "codemirror_mode": {
    "name": "ipython",
    "version": 3
   },
   "file_extension": ".py",
   "mimetype": "text/x-python",
   "name": "python",
   "nbconvert_exporter": "python",
   "pygments_lexer": "ipython3",
   "version": "3.12.7"
  }
 },
 "nbformat": 4,
 "nbformat_minor": 5
}
