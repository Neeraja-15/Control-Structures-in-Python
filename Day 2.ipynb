{
 "cells": [
  {
   "cell_type": "markdown",
   "id": "a5fabce8-e85f-4d73-8c0e-9c9d64a9e71c",
   "metadata": {},
   "source": [
    "Task 1: Simple Voting Eligibility Check\n",
    "• Task: Write a program that checks if a user is eligible to vote.\n",
    "• Instructions:\n",
    "– Ask the user for their age and use a conditional statement to check if they are at\n",
    "least 18 years old.\n",
    "– Print a message indicating whether they are eligible to vote or not\n",
    "\n",
    "    \n"
   ]
  },
  {
   "cell_type": "code",
   "execution_count": 5,
   "id": "6e59dfed-5163-4db0-abfb-0f3b1fe6fa34",
   "metadata": {},
   "outputs": [
    {
     "name": "stdin",
     "output_type": "stream",
     "text": [
      "Enter your age:  18\n"
     ]
    },
    {
     "name": "stdout",
     "output_type": "stream",
     "text": [
      "You are eligible to vote.\n"
     ]
    }
   ],
   "source": [
    "# Get user input for age\n",
    "age = int(input(\"Enter your age: \"))\n",
    "\n",
    "# Check voting eligibility\n",
    "if age >= 18:\n",
    "    print(\"You are eligible to vote.\")\n",
    "else:\n",
    "    print(\"You are not eligible to vote.\")"
   ]
  },
  {
   "cell_type": "code",
   "execution_count": 7,
   "id": "5a17c415-6687-48af-a508-a6d0019662b5",
   "metadata": {},
   "outputs": [
    {
     "name": "stdin",
     "output_type": "stream",
     "text": [
      "Enter your age:  16\n"
     ]
    },
    {
     "name": "stdout",
     "output_type": "stream",
     "text": [
      "You are not eligible to vote.\n"
     ]
    }
   ],
   "source": [
    "# Get user input for age\n",
    "age = int(input(\"Enter your age: \")) \n",
    "\n",
    "# Check voting eligibility\n",
    "if age >= 18:\n",
    "    print(\"You are eligible to vote.\")\n",
    "else:\n",
    "    print(\"You are not eligible to vote.\")"
   ]
  },
  {
   "cell_type": "markdown",
   "id": "f7a4b08b-4ed1-497e-9215-7780bf96481f",
   "metadata": {},
   "source": [
    "Task 2: Create a simple calculator\n",
    "• Task: Create a simple calculator that performs basic arithmetic operations.\n",
    "• Instructions:\n",
    "– Prompt the user for two numbers and an operation (addition, subtraction,\n",
    "multiplication, or division).\n"
   ]
  },
  {
   "cell_type": "code",
   "execution_count": 9,
   "id": "7ebe3c05-49d9-401f-9499-24104492e9ea",
   "metadata": {},
   "outputs": [
    {
     "name": "stdin",
     "output_type": "stream",
     "text": [
      "Enter first number:  50\n",
      "Enter second number:  30\n",
      "Enter operation (+, -, *, /):  +\n"
     ]
    },
    {
     "name": "stdout",
     "output_type": "stream",
     "text": [
      "Result: 80.0\n"
     ]
    }
   ],
   "source": [
    "# Get user input\n",
    "num1 = float(input(\"Enter first number: \"))\n",
    "num2 = float(input(\"Enter second number: \"))\n",
    "operation = input(\"Enter operation (+, -, *, /): \")\n",
    "\n",
    "# Perform operation\n",
    "if operation == '+':\n",
    "    print(\"Result:\", num1 + num2)\n",
    "elif operation == '-':\n",
    "    print(\"Result:\", num1 - num2)\n",
    "elif operation == '*':\n",
    "    print(\"Result:\", num1 * num2)\n",
    "elif operation == '/':\n",
    "    if num2 != 0:\n",
    "        print(\"Result:\", num1 / num2)\n",
    "    else:\n",
    "        print(\"Error: Division by zero is not allowed.\")\n",
    "else:\n",
    "    print(\"Invalid operation\")\n"
   ]
  },
  {
   "cell_type": "markdown",
   "id": "54a0b5b7-85f7-4c1a-ac12-cc491345a07e",
   "metadata": {},
   "source": [
    "Use conditional statements to perform the requested operation and display the\n",
    "result.\n",
    "1. Find the Maximum and Minimum of a List\n",
    "– Question: Given a list of numbers, find the maximum and minimum values.\n",
    "\n"
   ]
  },
  {
   "cell_type": "code",
   "execution_count": 13,
   "id": "ff86361c-9197-43a3-9bc2-b82475b6a543",
   "metadata": {},
   "outputs": [
    {
     "name": "stdout",
     "output_type": "stream",
     "text": [
      "Maximum: 9\n",
      "Minimum: 2\n"
     ]
    }
   ],
   "source": [
    "numbers = [3, 7, 2, 9, 5]\n",
    "print(\"Maximum:\", max(numbers))\n",
    "print(\"Minimum:\", min(numbers))"
   ]
  },
  {
   "cell_type": "code",
   "execution_count": null,
   "id": "7b21ce34-8662-4d1a-bb6f-93bc27c888f8",
   "metadata": {},
   "outputs": [],
   "source": [
    "Check for Prime Number\n",
    "– Question: Write a function to check if a given number is a prime number."
   ]
  },
  {
   "cell_type": "code",
   "execution_count": 15,
   "id": "eed4b6b1-077f-46d4-bb5a-80a2d0b3391d",
   "metadata": {},
   "outputs": [
    {
     "name": "stdin",
     "output_type": "stream",
     "text": [
      "Enter a number:  3\n"
     ]
    },
    {
     "name": "stdout",
     "output_type": "stream",
     "text": [
      "3 is a prime number\n"
     ]
    }
   ],
   "source": [
    "num = int(input(\"Enter a number: \"))\n",
    "\n",
    "if num > 1:\n",
    "    for i in range(2, num):   # Check divisibility up to square root of n\n",
    "        if num % i == 0:     \n",
    "            print(num, \"is not a prime number\")\n",
    "            break\n",
    "    else:\n",
    "        print(num, \"is a prime number\")\n",
    "else:\n",
    "    print(num, \"is not a prime number\")\n"
   ]
  },
  {
   "cell_type": "code",
   "execution_count": null,
   "id": "536e11e8-037e-4772-9d52-63415c6f995e",
   "metadata": {},
   "outputs": [],
   "source": [
    "Factorial of a Number\n",
    "– Question: Compute the factorial of a given number using recursion"
   ]
  },
  {
   "cell_type": "code",
   "execution_count": 33,
   "id": "cf003440-0be9-420f-9969-572449a5359a",
   "metadata": {},
   "outputs": [
    {
     "name": "stdin",
     "output_type": "stream",
     "text": [
      "Enter a number:  3\n"
     ]
    },
    {
     "name": "stdout",
     "output_type": "stream",
     "text": [
      "Factorial: 6\n"
     ]
    }
   ],
   "source": [
    "def factorial(n):\n",
    "    if n == 0 or n == 1:\n",
    "        return 1\n",
    "    return n * factorial(n - 1)  # Recursive function\n",
    "\n",
    "num = int(input(\"Enter a number: \"))\n",
    "print(\"Factorial:\", factorial(num))\n"
   ]
  },
  {
   "cell_type": "code",
   "execution_count": null,
   "id": "92332252-8507-499d-8559-6838303fe88e",
   "metadata": {},
   "outputs": [],
   "source": [
    "Fibonacci Sequence\n",
    "– Question: Generate the Fibonacci sequence up to a given number of terms."
   ]
  },
  {
   "cell_type": "code",
   "execution_count": 19,
   "id": "3a684000-8589-4202-b17b-82b3cb6a70e3",
   "metadata": {},
   "outputs": [
    {
     "name": "stdin",
     "output_type": "stream",
     "text": [
      "Enter number of terms:  6\n"
     ]
    },
    {
     "name": "stdout",
     "output_type": "stream",
     "text": [
      "0 1 1 2 3 5 "
     ]
    }
   ],
   "source": [
    "def fibonacci(n):\n",
    "    a, b = 0, 1\n",
    "    for _ in range(n):\n",
    "        print(a, end=\" \")\n",
    "        a, b = b, a + b   # Update values\n",
    "\n",
    "terms = int(input(\"Enter number of terms: \"))\n",
    "fibonacci(terms)\n"
   ]
  },
  {
   "cell_type": "code",
   "execution_count": null,
   "id": "e3e5d99c-e2ed-4197-a141-4e51bf775d6b",
   "metadata": {},
   "outputs": [],
   "source": [
    "Sum of Digits\n",
    "– Question: Write a function to calculate the sum of digits of a given integer."
   ]
  },
  {
   "cell_type": "code",
   "execution_count": 21,
   "id": "f768f3a8-49af-4276-a239-1db422f839b2",
   "metadata": {},
   "outputs": [
    {
     "name": "stdin",
     "output_type": "stream",
     "text": [
      "Enter a number:  7\n"
     ]
    },
    {
     "name": "stdout",
     "output_type": "stream",
     "text": [
      "Sum of digits: 7\n"
     ]
    }
   ],
   "source": [
    "num = int(input(\"Enter a number: \"))\n",
    "print(\"Sum of digits:\", sum(int(digit) for digit in str(num))) # Convert number to string and sum digits\n"
   ]
  },
  {
   "cell_type": "code",
   "execution_count": null,
   "id": "3264b8b4-9f59-44d6-a34c-134bbde269b9",
   "metadata": {},
   "outputs": [],
   "source": [
    "Convert Decimal to Binary\n",
    "– Question: Convert a decimal number to its binary representation."
   ]
  },
  {
   "cell_type": "code",
   "execution_count": 35,
   "id": "a848c1a3-11e0-469d-86cb-96339e44ee15",
   "metadata": {},
   "outputs": [
    {
     "name": "stdin",
     "output_type": "stream",
     "text": [
      "Enter a decimal number:  5\n"
     ]
    },
    {
     "name": "stdout",
     "output_type": "stream",
     "text": [
      "Binary: 101\n"
     ]
    }
   ],
   "source": [
    "num = int(input(\"Enter a decimal number: \"))\n",
    "print(\"Binary:\", bin(num)[2:])  # Use Python's built-in bin() function and remove '0b' prefix\n",
    "\n"
   ]
  },
  {
   "cell_type": "code",
   "execution_count": null,
   "id": "ac46b509-001e-4a04-8275-0ebb404e39b4",
   "metadata": {},
   "outputs": [],
   "source": [
    "Greatest Common Divisor (GCD)\n",
    "– Question: Compute the greatest common divisor of two numbers using Euclid’s\n",
    "algorithm."
   ]
  },
  {
   "cell_type": "code",
   "execution_count": 25,
   "id": "9fc6922d-76f7-43b5-a399-0ff021bab2c3",
   "metadata": {},
   "outputs": [
    {
     "name": "stdin",
     "output_type": "stream",
     "text": [
      "Enter first number:  2\n",
      "Enter second number:  3\n"
     ]
    },
    {
     "name": "stdout",
     "output_type": "stream",
     "text": [
      "GCD: 1\n"
     ]
    }
   ],
   "source": [
    "def gcd(a, b):\n",
    "    while b:\n",
    "        a, b = b, a % b # Euclidean algorithm\n",
    "    return a\n",
    "\n",
    "num1 = int(input(\"Enter first number: \"))\n",
    "num2 = int(input(\"Enter second number: \"))\n",
    "print(\"GCD:\", gcd(num1, num2))\n"
   ]
  },
  {
   "cell_type": "code",
   "execution_count": null,
   "id": "83fe02ef-39ef-4a7a-9c14-ebba720218b4",
   "metadata": {},
   "outputs": [],
   "source": [
    "Find the Second Largest Number in a List\n",
    "– Question: Given a list of numbers, find the second largest number."
   ]
  },
  {
   "cell_type": "code",
   "execution_count": 47,
   "id": "50dd37ec-037f-4432-ae6e-039916e0b853",
   "metadata": {},
   "outputs": [
    {
     "name": "stdout",
     "output_type": "stream",
     "text": [
      "Second Largest: 7\n"
     ]
    }
   ],
   "source": [
    "numbers = [3, 7, 2, 9, 5]  # Example list\n",
    "numbers.sort(reverse=True)  # Sort list in descending order\n",
    "print(\"Second Largest:\", numbers[1])"
   ]
  },
  {
   "cell_type": "markdown",
   "id": "c5938ee8-cb39-4af3-a56c-c6a2710da25f",
   "metadata": {},
   "source": [
    "Count the Number of Digits in a Number\n",
    "– Question: Count the number of digits in a given integer."
   ]
  },
  {
   "cell_type": "code",
   "execution_count": 29,
   "id": "c53d6e74-10c4-48b8-b7c0-5fecf306d936",
   "metadata": {},
   "outputs": [
    {
     "name": "stdin",
     "output_type": "stream",
     "text": [
      "Enter a number:  8\n"
     ]
    },
    {
     "name": "stdout",
     "output_type": "stream",
     "text": [
      "Number of digits: 1\n"
     ]
    }
   ],
   "source": [
    "num = int(input(\"Enter a number: \"))\n",
    "print(\"Number of digits:\", len(str(num)))  # Convert number to string and count length\n"
   ]
  },
  {
   "cell_type": "code",
   "execution_count": null,
   "id": "00a20f07-a2d7-428a-a65f-3b6b798b7eca",
   "metadata": {},
   "outputs": [],
   "source": [
    "Check if a Number is a Power of Two\n",
    "– Question: Determine if a given number is a power of two."
   ]
  },
  {
   "cell_type": "code",
   "execution_count": 31,
   "id": "32485c56-e592-4ecd-987b-781fe520f59b",
   "metadata": {},
   "outputs": [
    {
     "name": "stdin",
     "output_type": "stream",
     "text": [
      "Enter a number:  6\n"
     ]
    },
    {
     "name": "stdout",
     "output_type": "stream",
     "text": [
      "6 is not a power of two\n"
     ]
    }
   ],
   "source": [
    "def is_power_of_two(n):\n",
    "    return n > 0 and (n & (n - 1)) == 0 # Bitwise check\n",
    "\n",
    "num = int(input(\"Enter a number: \"))\n",
    "print(num, \"is a power of two\" if is_power_of_two(num) else \"is not a power of two\")\n"
   ]
  },
  {
   "cell_type": "code",
   "execution_count": null,
   "id": "40801a77-caae-4437-8390-88ecbc8975f4",
   "metadata": {},
   "outputs": [],
   "source": []
  }
 ],
 "metadata": {
  "kernelspec": {
   "display_name": "Python [conda env:base] *",
   "language": "python",
   "name": "conda-base-py"
  },
  "language_info": {
   "codemirror_mode": {
    "name": "ipython",
    "version": 3
   },
   "file_extension": ".py",
   "mimetype": "text/x-python",
   "name": "python",
   "nbconvert_exporter": "python",
   "pygments_lexer": "ipython3",
   "version": "3.12.7"
  }
 },
 "nbformat": 4,
 "nbformat_minor": 5
}
